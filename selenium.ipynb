{
 "cells": [
  {
   "cell_type": "code",
   "execution_count": 1,
   "id": "85fb8485-defb-40b9-aef4-4f8787589259",
   "metadata": {},
   "outputs": [],
   "source": [
    "from selenium import webdriver"
   ]
  },
  {
   "cell_type": "code",
   "execution_count": 2,
   "id": "6a3b3ad6-7917-4361-9303-3f295a33f279",
   "metadata": {},
   "outputs": [],
   "source": [
    "from selenium.webdriver.common.keys import Keys"
   ]
  },
  {
   "cell_type": "code",
   "execution_count": 5,
   "id": "0d3f2b45-084d-4127-8687-7d6bf6363eaa",
   "metadata": {},
   "outputs": [
    {
     "name": "stdout",
     "output_type": "stream",
     "text": [
      "Requirement already satisfied: webdriver-manager in c:\\users\\91932\\anaconda3\\lib\\site-packages (3.5.4)\n",
      "Requirement already satisfied: requests in c:\\users\\91932\\anaconda3\\lib\\site-packages (from webdriver-manager) (2.25.1)\n",
      "Requirement already satisfied: chardet<5,>=3.0.2 in c:\\users\\91932\\anaconda3\\lib\\site-packages (from requests->webdriver-manager) (4.0.0)\n",
      "Requirement already satisfied: certifi>=2017.4.17 in c:\\users\\91932\\anaconda3\\lib\\site-packages (from requests->webdriver-manager) (2020.12.5)\n",
      "Requirement already satisfied: urllib3<1.27,>=1.21.1 in c:\\users\\91932\\anaconda3\\lib\\site-packages (from requests->webdriver-manager) (1.26.4)\n",
      "Requirement already satisfied: idna<3,>=2.5 in c:\\users\\91932\\anaconda3\\lib\\site-packages (from requests->webdriver-manager) (2.10)\n"
     ]
    }
   ],
   "source": [
    "!pip install webdriver-manager"
   ]
  },
  {
   "cell_type": "code",
   "execution_count": 3,
   "id": "6b1711e3-d199-4d54-9079-9adc821b8a1e",
   "metadata": {},
   "outputs": [
    {
     "name": "stderr",
     "output_type": "stream",
     "text": [
      "\n",
      "\n",
      "====== WebDriver manager ======\n",
      "Current google-chrome version is 102.0.5005\n",
      "Get LATEST chromedriver version for 102.0.5005 google-chrome\n",
      "There is no [win32] chromedriver for browser 102.0.5005 in cache\n",
      "Trying to download new driver from https://chromedriver.storage.googleapis.com/102.0.5005.61/chromedriver_win32.zip\n",
      "Driver has been saved in cache [C:\\Users\\91932\\.wdm\\drivers\\chromedriver\\win32\\102.0.5005.61]\n",
      "<ipython-input-3-0987a487086c>:4: DeprecationWarning: executable_path has been deprecated, please pass in a Service object\n",
      "  driver = webdriver.Chrome(ChromeDriverManager().install())\n"
     ]
    }
   ],
   "source": [
    "from selenium import webdriver\n",
    "from webdriver_manager.chrome import ChromeDriverManager\n",
    "\n",
    "driver = webdriver.Chrome(ChromeDriverManager().install())"
   ]
  },
  {
   "cell_type": "code",
   "execution_count": 8,
   "id": "d37e32f0-aaf9-4e28-a18e-16bb959656a8",
   "metadata": {},
   "outputs": [
    {
     "name": "stderr",
     "output_type": "stream",
     "text": [
      "<ipython-input-8-c2df89067ead>:2: DeprecationWarning: executable_path has been deprecated, please pass in a Service object\n",
      "  driver=webdriver.Chrome(executable_path=\"C:/Users/91932/Documents/chromedriver_win32/chromedriver\")\n"
     ]
    }
   ],
   "source": [
    "#drivers=webdriver.Chrome(executable_path=\"C:/Users/91932/Downloads/chromedriver_win32 (1)/chromedriver\")\n",
    "driver=webdriver.Chrome(executable_path=\"C:/Users/91932/Documents/chromedriver_win32/chromedriver\")"
   ]
  },
  {
   "cell_type": "code",
   "execution_count": 9,
   "id": "c5a87149-d249-46c1-9868-b3fc60cd2162",
   "metadata": {},
   "outputs": [],
   "source": [
    "#drivers.get(\"https://www.Amazon.in\")\n",
    "driver.get(\"https://in.bookmyshow.com/events/ncpa-upcoming-events/ET00305288\")"
   ]
  },
  {
   "cell_type": "code",
   "execution_count": 103,
   "id": "756e8ea7-a315-4a31-8355-2529b72c74c5",
   "metadata": {},
   "outputs": [],
   "source": [
    "#drivers.find_element_by_id(\"searchField\").send_keys(\"Mobiles\")\n",
    "#drivers.find_element_by_css(\"#search-inp\").send_keys(\"mobiles\")"
   ]
  },
  {
   "cell_type": "code",
   "execution_count": 10,
   "id": "ff99ee7d-941a-4dee-af89-55872281ed29",
   "metadata": {},
   "outputs": [],
   "source": [
    "#drivers.find_element_by_link_text(\"Movies\").click()\n",
    "from selenium.webdriver.common.by import By\n"
   ]
  },
  {
   "cell_type": "code",
   "execution_count": 116,
   "id": "00d9ba6e-2bfd-4b58-ab65-fc175c9a40ca",
   "metadata": {},
   "outputs": [],
   "source": [
    "drivers.find_element(By.XPATH,\"//input[contains(@id,'search')]\").send_keys(\"samsung phones\")"
   ]
  },
  {
   "cell_type": "code",
   "execution_count": 192,
   "id": "2eb9ac27-19f9-40e4-bf95-35c36d1a8481",
   "metadata": {},
   "outputs": [],
   "source": [
    "#phones=drivers.find_elements(By.XPATH,\"//span[contains(@class,'a-size-medium a-color-base a-text-normal')]\")\n"
   ]
  },
  {
   "cell_type": "code",
   "execution_count": 193,
   "id": "9a734512-9b21-4080-9d38-c37340b2d794",
   "metadata": {},
   "outputs": [
    {
     "name": "stdout",
     "output_type": "stream",
     "text": [
      "Lava X2 (2GB RAM, 32GB Storage) - Striped Cyan| Long Lasting 5000 mAh Battery| High Performance Octa Core Processor| Big 6.5 inch Display HD+IPS Notch Display\n",
      "Samsung Galaxy M02 (Blue,2GB RAM, 32GB Storage)\n",
      "Samsung Galaxy M02 (Gray,2GB RAM, 32GB Storage)\n",
      "Samsung Galaxy A03 Core (Blue, 2GB RAM, 32GB Storage) with No Cost EMI/Additional Exchange Offers\n",
      "Samsung Galaxy M02 (Black,2GB RAM, 32GB Storage)\n",
      "(Renewed) Samsung Galaxy A03 Core (Black, 2GB RAM, 32GB Storage) Without Offer\n",
      "(Renewed) Samsung Galaxy A03 Core (Blue, 2GB RAM, 32GB Storage) Without Offer\n",
      "Samsung Galaxy J4 Plus (Black, 2GB RAM, 32GB Storage)\n",
      "Samsung Galaxy J4 Plus (Blue, 2GB RAM, 32GB Storage)\n",
      "I KALL Z4 Smartphone (5.5 Inch, 4GB, 32GB) (4G Volte, Blue)\n",
      "Lava Z3 Striped Blue (3GB RAM, 32GB Storage)\n",
      "(Renewed) Samsung Galaxy A5 2017 (Gold, 3GB/32GB)\n",
      "Samsung Galaxy Ace GT-S5830 (Pure White)\n",
      "(Renewed) Samsung Galaxy A7 SM-A750FZKDINS (Black, 4GB RAM, 64GB Storage) Without Offer\n",
      "A03 Core, 2GB RAM, 32GB Storage Smart Adroid Mobile Phone (Black)\n",
      "(Renewed) Samsung Galaxy M01 Core (Black, 1GB RAM, 16GB Storage) Without Offer\n",
      "(Renewed) Samsung Galaxy A7 (Blue, 4GB RAM and 64GB Storage)\n",
      "(Renewed) Samsung Galaxy A20s (Black, 4GB RAM, 64GB Storage)\n",
      "(Renewed) Samsung Galaxy Buds 2 | Active Noise Cancellation, Auto Switch Feature, Up to 20hrs Battery Life, (Graphite)\n",
      "I KALL Z7 Smartphone (4GB, 32GB) (Grey)\n",
      "I KALL K280 Smartphone (6.26 Inch, 3GB, 32GB) (Black)\n"
     ]
    }
   ],
   "source": [
    "for phone in phones:\n",
    "    print(phone.text)\n",
    "    \n"
   ]
  },
  {
   "cell_type": "code",
   "execution_count": 185,
   "id": "b7f88322-bb17-41a4-99a0-e7e45e4faac5",
   "metadata": {},
   "outputs": [],
   "source": [
    "price=drivers.find_elements(By.XPATH,\"//span[contains(@class,'price-whole')]\")"
   ]
  },
  {
   "cell_type": "code",
   "execution_count": 186,
   "id": "962d1e6e-cfdb-4885-8b61-d969d37e7b04",
   "metadata": {},
   "outputs": [
    {
     "name": "stdout",
     "output_type": "stream",
     "text": [
      "6,599\n",
      "9,490\n",
      "7,990\n",
      "6,999\n",
      "7,190\n",
      "8,999\n",
      "8,999\n",
      "5,399\n",
      "7,499\n",
      "8,750\n",
      "8,199\n",
      "9,499\n",
      "6,090\n",
      "8,999\n",
      "8,599\n",
      "8,399\n",
      "6,399\n",
      "5,699\n"
     ]
    }
   ],
   "source": [
    "for prices in price:\n",
    "    print(prices.text)"
   ]
  },
  {
   "cell_type": "code",
   "execution_count": 187,
   "id": "883a7afc-5e31-4006-967f-e1c72e6e8485",
   "metadata": {},
   "outputs": [
    {
     "name": "stdout",
     "output_type": "stream",
     "text": [
      "RESULTS\n",
      "Lava X2 (2GB RAM, 32GB Storage) - Striped Cyan| Long Lasting 5000 mAh Battery| High Performance Octa Core Processor| Big 6.5 inch Display HD+IPS Notch Display\n",
      "Samsung Galaxy M02 (Blue,2GB RAM, 32GB Storage)\n",
      "Samsung Galaxy M02 (Gray,2GB RAM, 32GB Storage)\n",
      "Samsung Galaxy A03 Core (Blue, 2GB RAM, 32GB Storage) with No Cost EMI/Additional Exchange Offers\n",
      "Samsung Galaxy M02 (Black,2GB RAM, 32GB Storage)\n",
      "(Renewed) Samsung Galaxy A03 Core (Black, 2GB RAM, 32GB Storage) Without Offer\n",
      "(Renewed) Samsung Galaxy A03 Core (Blue, 2GB RAM, 32GB Storage) Without Offer\n",
      "Samsung Galaxy J4 Plus (Black, 2GB RAM, 32GB Storage)\n",
      "Samsung Galaxy J4 Plus (Blue, 2GB RAM, 32GB Storage)\n",
      "I KALL Z4 Smartphone (5.5 Inch, 4GB, 32GB) (4G Volte, Blue)\n",
      "Lava Z3 Striped Blue (3GB RAM, 32GB Storage)\n",
      "(Renewed) Samsung Galaxy A5 2017 (Gold, 3GB/32GB)\n",
      "Samsung Galaxy Ace GT-S5830 (Pure White)\n",
      "(Renewed) Samsung Galaxy A7 SM-A750FZKDINS (Black, 4GB RAM, 64GB Storage) Without Offer\n",
      "A03 Core, 2GB RAM, 32GB Storage Smart Adroid Mobile Phone (Black)\n",
      "(Renewed) Samsung Galaxy M01 Core (Black, 1GB RAM, 16GB Storage) Without Offer\n",
      "(Renewed) Samsung Galaxy A7 (Blue, 4GB RAM and 64GB Storage)\n",
      "(Renewed) Samsung Galaxy A20s (Black, 4GB RAM, 64GB Storage)\n",
      "(Renewed) Samsung Galaxy Buds 2 | Active Noise Cancellation, Auto Switch Feature, Up to 20hrs Battery Life, (Graphite)\n",
      "I KALL Z7 Smartphone (4GB, 32GB) (Grey)\n",
      "I KALL K280 Smartphone (6.26 Inch, 3GB, 32GB) (Black)\n"
     ]
    }
   ],
   "source": [
    "myphone=[]\n",
    "\n",
    "for phone in phones:\n",
    "    print(phone.text)\n",
    "    myphone.append(phone.text)"
   ]
  },
  {
   "cell_type": "code",
   "execution_count": 188,
   "id": "bf8d5cac-6982-4cc8-966f-941b08ac66b7",
   "metadata": {},
   "outputs": [
    {
     "name": "stdout",
     "output_type": "stream",
     "text": [
      "6,599\n",
      "9,490\n",
      "7,990\n",
      "6,999\n",
      "7,190\n",
      "8,999\n",
      "8,999\n",
      "5,399\n",
      "7,499\n",
      "8,750\n",
      "8,199\n",
      "9,499\n",
      "6,090\n",
      "8,999\n",
      "8,599\n",
      "8,399\n",
      "6,399\n",
      "5,699\n"
     ]
    }
   ],
   "source": [
    "myprice=[]\n",
    "\n",
    "for prices in price:\n",
    "    print(prices.text)\n",
    "    myprice.append(prices.text)"
   ]
  },
  {
   "cell_type": "code",
   "execution_count": 189,
   "id": "9ac23b9e-da5f-483d-8048-88ec1232211f",
   "metadata": {},
   "outputs": [
    {
     "data": {
      "text/plain": [
       "['9,490',\n",
       " '7,990',\n",
       " '6,999',\n",
       " '7,190',\n",
       " '8,999',\n",
       " '8,999',\n",
       " '5,399',\n",
       " '7,499',\n",
       " '8,750',\n",
       " '8,199',\n",
       " '9,499',\n",
       " '6,090',\n",
       " '8,999',\n",
       " '8,599',\n",
       " '8,399',\n",
       " '6,399',\n",
       " '5,699']"
      ]
     },
     "execution_count": 189,
     "metadata": {},
     "output_type": "execute_result"
    }
   ],
   "source": [
    "myphone.pop(0)\n",
    "myphone\n",
    "myprice.pop(0)\n",
    "myprice"
   ]
  },
  {
   "cell_type": "code",
   "execution_count": 190,
   "id": "9499f5b4-67fd-48c8-9dd7-f72c610c070a",
   "metadata": {},
   "outputs": [],
   "source": [
    "final_data=zip(myphone,myprice)"
   ]
  },
  {
   "cell_type": "code",
   "execution_count": 170,
   "id": "017625c9-c379-4d92-869f-b5cc3414fa18",
   "metadata": {},
   "outputs": [],
   "source": [
    "\n",
    "    \n",
    "    "
   ]
  },
  {
   "cell_type": "code",
   "execution_count": 191,
   "id": "6842faf2-ccdc-4f58-bcff-8b76af00934b",
   "metadata": {},
   "outputs": [],
   "source": [
    "import pandas as pd \n",
    "datash=pd.DataFrame(final_data)\n",
    "datash.to_excel(\"datash.xlsx\",sheet_name='sh1',index=False)\n",
    "\n"
   ]
  },
  {
   "cell_type": "code",
   "execution_count": 153,
   "id": "2e8619ff-ad25-455c-90c3-179fcd3e97a8",
   "metadata": {},
   "outputs": [],
   "source": [
    "from xlwt import Workbook"
   ]
  },
  {
   "cell_type": "code",
   "execution_count": 154,
   "id": "793fadbc-4949-44db-94bb-0cc0d4c95707",
   "metadata": {},
   "outputs": [],
   "source": [
    "wb=Workbook()"
   ]
  },
  {
   "cell_type": "code",
   "execution_count": 43,
   "id": "073015de-83ba-46f7-975e-831a853829cc",
   "metadata": {},
   "outputs": [],
   "source": [
    "events_name=driver.find_elements(By.XPATH,\"//div[@class='df-av df-ay df-ba df-bq df-bs']\")\n",
    "\n",
    "types=driver.find_elements(By.XPATH,\"//span[@class='df-av df-az df-bt df-bu df-qj']\")\n",
    "address=driver.find_elements(By.XPATH,'//div[@class=\"df-av df-az df-b df-bt df-ip df-iq\"]')\n",
    "price=driver.find_elements(By.XPATH,'//div[@class=\"df-av df-ay df-bi df-bq df-h\"]')\n",
    "Date=driver.find_elements(By.XPATH,'//div[@class=\"df-bf df-bt df-fx df-h df-ik df-qf df-qg df-qh\"]')"
   ]
  },
  {
   "cell_type": "code",
   "execution_count": 41,
   "id": "34138fd2-114c-41a7-be52-95dfdc53fa02",
   "metadata": {},
   "outputs": [],
   "source": [
    "events_names=[]\n",
    "types_of_events=[]\n",
    "addresess=[]\n",
    "prices=[]\n",
    "dates=[]"
   ]
  },
  {
   "cell_type": "code",
   "execution_count": 44,
   "id": "640b8293-7bb0-44b2-9b48-59a552138379",
   "metadata": {},
   "outputs": [
    {
     "name": "stdout",
     "output_type": "stream",
     "text": [
      "Lungs\n",
      "Ghan Garaje: Monsoon Melodies by Shalmalee Joshi\n",
      "Perfect Family\n",
      "Henry V\n",
      "Thrayam\n",
      "Don Carlos\n",
      "Miracle on Matunga Street\n",
      "First Encounter\n",
      "Time Wise\n",
      "OGANGA! – A Tribute to Dr. Albert Schweitzer\n",
      "NCPA HSBC Bandish – Day 1\n",
      "An Evening of Brazilian Jazz\n",
      "NCPA HSBC Bandish – Day 2\n",
      "Salaam Noni Appa\n",
      "NCPA HSBC Bandish\n",
      "NCPA HSBC Bandish – Day 3\n",
      "Dance Like A Man\n",
      "Young Talent\n",
      "NCPA Legends\n",
      "Crave Showcase\n",
      "Pink is The New Black\n"
     ]
    }
   ],
   "source": [
    "for events in events_name:\n",
    "    print(events.text)\n",
    "    events_names.append(events.text)"
   ]
  },
  {
   "cell_type": "code",
   "execution_count": 46,
   "id": "e8ce547f-5497-45ef-8888-3b95e83028da",
   "metadata": {},
   "outputs": [
    {
     "name": "stdout",
     "output_type": "stream",
     "text": [
      "drama\n",
      "classical | semi-classical\n",
      "drama\n",
      "\n",
      "\n",
      "\n",
      "drama\n",
      "contemporary\n",
      "jazz\n",
      "\n",
      "indian-classical\n",
      "jazz\n",
      "devotional\n",
      "drama\n",
      "hindustani\n",
      "bollywood\n",
      "drama\n",
      "western-classical\n",
      "international\n",
      "\n",
      "drama\n"
     ]
    }
   ],
   "source": [
    "for typek in types:\n",
    "    print(typek.text)\n",
    "    types_of_events.append(typek.text)"
   ]
  },
  {
   "cell_type": "code",
   "execution_count": 48,
   "id": "893bc0cb-28a6-41eb-87dd-f65b439b0617",
   "metadata": {},
   "outputs": [
    {
     "name": "stdout",
     "output_type": "stream",
     "text": [
      "JBT Stage Box: NCPA\n",
      "Dance Theatre Godrej: NCPA.\n",
      "Experimental Theatre: NCPA.\n",
      "Dance Theatre Godrej: NCPA.\n",
      "Experimental Theatre: NCPA.\n",
      "Dance Theatre Godrej: NCPA.\n",
      "Experimental Theatre: NCPA.\n",
      "Experimental Theatre: NCPA.\n",
      "Experimental Theatre: NCPA.\n",
      "Tata Theatre: NCPA.\n",
      "Tata Theatre: NCPA.\n",
      "Experimental Theatre: NCPA.\n",
      "Tata Theatre: NCPA.\n",
      "Experimental Theatre: NCPA.\n",
      "Multiple Venues\n",
      "Jamshed Bhabha Theatre: NCPA.\n",
      "Experimental Theatre: NCPA.\n",
      "Experimental Theatre: NCPA.\n",
      "Tata Theatre: NCPA.\n",
      "Experimental Theatre: NCPA.\n",
      "Tata Theatre: NCPA.\n"
     ]
    }
   ],
   "source": [
    "for add in address:\n",
    "    print(add.text)\n",
    "    addresess.append(add.text)"
   ]
  },
  {
   "cell_type": "code",
   "execution_count": 50,
   "id": "b6e1e97d-797b-4b06-9cc2-076da8f3df1e",
   "metadata": {},
   "outputs": [
    {
     "name": "stdout",
     "output_type": "stream",
     "text": [
      "₹885\n",
      " onwards\n",
      "₹200\n",
      "₹500\n",
      "₹400\n",
      "₹200\n",
      " onwards\n",
      "₹500\n",
      "₹400\n",
      " onwards\n",
      "₹300\n",
      " onwards\n",
      "₹500\n",
      " onwards\n",
      "₹500\n",
      " onwards\n",
      "₹500\n",
      " onwards\n",
      "₹500\n",
      " onwards\n",
      "₹600\n",
      " onwards\n",
      "₹500\n",
      " onwards\n",
      "₹500\n",
      " onwards\n",
      "₹800\n",
      " onwards\n",
      "₹500\n",
      " onwards\n",
      "₹500\n",
      "₹500\n",
      " onwards\n",
      "₹500\n",
      "₹500\n",
      " onwards\n"
     ]
    }
   ],
   "source": [
    "for m in price:\n",
    "    print(m.text)\n",
    "    prices.append(m.text)"
   ]
  },
  {
   "cell_type": "code",
   "execution_count": 53,
   "id": "f0b5de30-acb2-4d4e-b71b-01ad546fa45c",
   "metadata": {},
   "outputs": [
    {
     "name": "stdout",
     "output_type": "stream",
     "text": [
      "Sun, 19 Jun\n",
      "Fri, 24 Jun\n",
      "Sun, 26 Jun\n",
      "Wed, 29 Jun\n",
      "Sat, 2 Jul\n",
      "Sun, 3 Jul\n",
      "Sun, 3 Jul\n",
      "Fri, 8 Jul\n",
      "Sat, 9 Jul\n",
      "Sun, 10 Jul\n",
      "Fri, 15 Jul\n",
      "Sat, 16 Jul\n",
      "Sat, 16 Jul\n",
      "Sun, 17 Jul\n",
      "Sun, 17 Jul\n",
      "Sun, 17 Jul\n",
      "Sun, 17 Jul\n",
      "Wed, 20 Jul\n",
      "Sat, 23 Jul\n",
      "Sun, 24 Jul\n",
      "Sat, 30 Jul\n"
     ]
    }
   ],
   "source": [
    "for d in Date:\n",
    "    print(d.text)\n",
    "    dates.append(d.text)"
   ]
  },
  {
   "cell_type": "code",
   "execution_count": 54,
   "id": "06bbd02a-2cc6-4cda-b5c9-2eb982a9765c",
   "metadata": {},
   "outputs": [],
   "source": [
    "final_datas=zip(events_names ,types_of_events, addresess ,prices ,dates)"
   ]
  },
  {
   "cell_type": "code",
   "execution_count": 58,
   "id": "4bf9b337-94b2-421a-83d5-95f2da4de5dd",
   "metadata": {},
   "outputs": [],
   "source": [
    "import pandas as pd \n",
    "book_my_show=pd.DataFrame(final_datas)\n",
    "book_my_show.to_excel(\"book_my_show.xlsx\",sheet_name='sh1',index=False)"
   ]
  },
  {
   "cell_type": "code",
   "execution_count": 45,
   "id": "52c4a76d-7657-4c8d-8b3e-8d208cf8b0b6",
   "metadata": {},
   "outputs": [
    {
     "data": {
      "text/plain": [
       "['Lungs',\n",
       " 'Ghan Garaje: Monsoon Melodies by Shalmalee Joshi',\n",
       " 'Perfect Family',\n",
       " 'Henry V',\n",
       " 'Thrayam',\n",
       " 'Don Carlos',\n",
       " 'Miracle on Matunga Street',\n",
       " 'First Encounter',\n",
       " 'Time Wise',\n",
       " 'OGANGA! – A Tribute to Dr. Albert Schweitzer',\n",
       " 'NCPA HSBC Bandish – Day 1',\n",
       " 'An Evening of Brazilian Jazz',\n",
       " 'NCPA HSBC Bandish – Day 2',\n",
       " 'Salaam Noni Appa',\n",
       " 'NCPA HSBC Bandish',\n",
       " 'NCPA HSBC Bandish – Day 3',\n",
       " 'Dance Like A Man',\n",
       " 'Young Talent',\n",
       " 'NCPA Legends',\n",
       " 'Crave Showcase',\n",
       " 'Pink is The New Black']"
      ]
     },
     "execution_count": 45,
     "metadata": {},
     "output_type": "execute_result"
    }
   ],
   "source": [
    "events_names"
   ]
  },
  {
   "cell_type": "code",
   "execution_count": 24,
   "id": "a992d31f-a2cd-4ac5-aa21-e2d13e486bdf",
   "metadata": {},
   "outputs": [
    {
     "data": {
      "text/plain": [
       "[<selenium.webdriver.remote.webelement.WebElement (session=\"acb7b693a40c52d22b52ae5c052fc2c2\", element=\"aac62852-fc1b-4118-b6d9-737b61f06bf8\")>,\n",
       " <selenium.webdriver.remote.webelement.WebElement (session=\"acb7b693a40c52d22b52ae5c052fc2c2\", element=\"b3732c3b-62cf-4e80-8767-b634a33db031\")>,\n",
       " <selenium.webdriver.remote.webelement.WebElement (session=\"acb7b693a40c52d22b52ae5c052fc2c2\", element=\"3f310280-18c9-451a-abb1-c7a2788fe177\")>,\n",
       " <selenium.webdriver.remote.webelement.WebElement (session=\"acb7b693a40c52d22b52ae5c052fc2c2\", element=\"46d73761-8ed5-4ee5-9623-049fc3c36e06\")>,\n",
       " <selenium.webdriver.remote.webelement.WebElement (session=\"acb7b693a40c52d22b52ae5c052fc2c2\", element=\"f198548b-b727-49f8-8b55-6ca33c117204\")>,\n",
       " <selenium.webdriver.remote.webelement.WebElement (session=\"acb7b693a40c52d22b52ae5c052fc2c2\", element=\"4f09aa96-164d-4ebb-8c0b-cba61c5314de\")>,\n",
       " <selenium.webdriver.remote.webelement.WebElement (session=\"acb7b693a40c52d22b52ae5c052fc2c2\", element=\"10c441c7-f092-4db8-8bfc-fc47dbcde145\")>,\n",
       " <selenium.webdriver.remote.webelement.WebElement (session=\"acb7b693a40c52d22b52ae5c052fc2c2\", element=\"92274209-df2f-4d5d-ac99-ea1cee7536e8\")>,\n",
       " <selenium.webdriver.remote.webelement.WebElement (session=\"acb7b693a40c52d22b52ae5c052fc2c2\", element=\"e789b831-0d52-4cd0-a154-e4b03e8ad1a3\")>,\n",
       " <selenium.webdriver.remote.webelement.WebElement (session=\"acb7b693a40c52d22b52ae5c052fc2c2\", element=\"a8228322-3073-467c-b73a-a895e011fde7\")>,\n",
       " <selenium.webdriver.remote.webelement.WebElement (session=\"acb7b693a40c52d22b52ae5c052fc2c2\", element=\"50fd6089-9b1c-497c-b61a-49d15d338822\")>,\n",
       " <selenium.webdriver.remote.webelement.WebElement (session=\"acb7b693a40c52d22b52ae5c052fc2c2\", element=\"024f2694-8da2-4a05-90c6-3ffbbd537c19\")>,\n",
       " <selenium.webdriver.remote.webelement.WebElement (session=\"acb7b693a40c52d22b52ae5c052fc2c2\", element=\"f10efc26-29f0-44cb-8388-d8ba339338bd\")>,\n",
       " <selenium.webdriver.remote.webelement.WebElement (session=\"acb7b693a40c52d22b52ae5c052fc2c2\", element=\"86934499-cf86-4b76-b3b6-ffa5cf2abac1\")>,\n",
       " <selenium.webdriver.remote.webelement.WebElement (session=\"acb7b693a40c52d22b52ae5c052fc2c2\", element=\"41022848-f46a-4fd9-8cca-535e97227ede\")>,\n",
       " <selenium.webdriver.remote.webelement.WebElement (session=\"acb7b693a40c52d22b52ae5c052fc2c2\", element=\"e2f235d7-5156-4a74-84fa-151ada7acd3c\")>,\n",
       " <selenium.webdriver.remote.webelement.WebElement (session=\"acb7b693a40c52d22b52ae5c052fc2c2\", element=\"6e37039f-f1a4-4b72-9709-e65580f05f9b\")>,\n",
       " <selenium.webdriver.remote.webelement.WebElement (session=\"acb7b693a40c52d22b52ae5c052fc2c2\", element=\"63006b1a-759b-4f9a-b632-5c2f6a1257db\")>,\n",
       " <selenium.webdriver.remote.webelement.WebElement (session=\"acb7b693a40c52d22b52ae5c052fc2c2\", element=\"2e9284fa-614c-40ef-bfeb-b04c3701d706\")>,\n",
       " <selenium.webdriver.remote.webelement.WebElement (session=\"acb7b693a40c52d22b52ae5c052fc2c2\", element=\"efe43e06-ed7e-4a33-b55f-909ed699a614\")>,\n",
       " <selenium.webdriver.remote.webelement.WebElement (session=\"acb7b693a40c52d22b52ae5c052fc2c2\", element=\"d29dc4ad-9d91-4888-bcf1-b983edba8a39\")>]"
      ]
     },
     "execution_count": 24,
     "metadata": {},
     "output_type": "execute_result"
    }
   ],
   "source": [
    "events_name"
   ]
  },
  {
   "cell_type": "code",
   "execution_count": 40,
   "id": "57c9103c-fd3d-42a3-88e9-f26438b830ff",
   "metadata": {},
   "outputs": [
    {
     "name": "stdout",
     "output_type": "stream",
     "text": [
      "Sun, 19 Jun\n",
      "Fri, 24 Jun\n",
      "Sun, 26 Jun\n",
      "Wed, 29 Jun\n",
      "Sat, 2 Jul\n",
      "Sun, 3 Jul\n",
      "Sun, 3 Jul\n",
      "Fri, 8 Jul\n",
      "Sat, 9 Jul\n",
      "Sun, 10 Jul\n",
      "Fri, 15 Jul\n",
      "Sat, 16 Jul\n",
      "Sat, 16 Jul\n",
      "Sun, 17 Jul\n",
      "Sun, 17 Jul\n",
      "Sun, 17 Jul\n",
      "Sun, 17 Jul\n",
      "Wed, 20 Jul\n",
      "Sat, 23 Jul\n",
      "Sun, 24 Jul\n",
      "Sat, 30 Jul\n"
     ]
    }
   ],
   "source": [
    "for prises in Date:\n",
    "    print(prises.text)"
   ]
  },
  {
   "cell_type": "code",
   "execution_count": null,
   "id": "e6ea57e5-8cad-484b-ac62-e230be96651a",
   "metadata": {},
   "outputs": [],
   "source": []
  },
  {
   "cell_type": "code",
   "execution_count": null,
   "id": "5c8980b9-cde8-424b-a6ae-70a54decfa8f",
   "metadata": {},
   "outputs": [],
   "source": []
  },
  {
   "cell_type": "code",
   "execution_count": null,
   "id": "5183f3fa-e3a7-4e1c-9556-ba4872d1b55a",
   "metadata": {},
   "outputs": [],
   "source": []
  }
 ],
 "metadata": {
  "kernelspec": {
   "display_name": "Python 3",
   "language": "python",
   "name": "python3"
  },
  "language_info": {
   "codemirror_mode": {
    "name": "ipython",
    "version": 3
   },
   "file_extension": ".py",
   "mimetype": "text/x-python",
   "name": "python",
   "nbconvert_exporter": "python",
   "pygments_lexer": "ipython3",
   "version": "3.8.8"
  }
 },
 "nbformat": 4,
 "nbformat_minor": 5
}
